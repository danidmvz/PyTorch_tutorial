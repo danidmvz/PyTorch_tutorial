{
  "nbformat": 4,
  "nbformat_minor": 0,
  "metadata": {
    "colab": {
      "provenance": [],
      "toc_visible": true,
      "authorship_tag": "ABX9TyOu39P/CejRW+ao8kKQOVLT",
      "include_colab_link": true
    },
    "kernelspec": {
      "name": "python3",
      "display_name": "Python 3"
    },
    "language_info": {
      "name": "python"
    }
  },
  "cells": [
    {
      "cell_type": "markdown",
      "metadata": {
        "id": "view-in-github",
        "colab_type": "text"
      },
      "source": [
        "<a href=\"https://colab.research.google.com/github/danidmvz/PyTorch_tutorial/blob/main/PyTorch_tutorial.ipynb\" target=\"_parent\"><img src=\"https://colab.research.google.com/assets/colab-badge.svg\" alt=\"Open In Colab\"/></a>"
      ]
    },
    {
      "cell_type": "markdown",
      "source": [
        "# **PyTorch tutorial**\n",
        "\n"
      ],
      "metadata": {
        "id": "CrlvR6UL7vsN"
      }
    },
    {
      "cell_type": "markdown",
      "source": [
        "## Installing and loading PyTorch"
      ],
      "metadata": {
        "id": "sYoq6KVw8wit"
      }
    },
    {
      "cell_type": "code",
      "source": [
        "!pip install torch"
      ],
      "metadata": {
        "colab": {
          "base_uri": "https://localhost:8080/"
        },
        "id": "fZzbMitk87HC",
        "outputId": "d1f69b0d-0340-4314-84a1-0c2bfffb4ae3"
      },
      "execution_count": 32,
      "outputs": [
        {
          "output_type": "stream",
          "name": "stdout",
          "text": [
            "Requirement already satisfied: torch in /usr/local/lib/python3.10/dist-packages (2.1.0+cu118)\n",
            "Requirement already satisfied: filelock in /usr/local/lib/python3.10/dist-packages (from torch) (3.12.4)\n",
            "Requirement already satisfied: typing-extensions in /usr/local/lib/python3.10/dist-packages (from torch) (4.5.0)\n",
            "Requirement already satisfied: sympy in /usr/local/lib/python3.10/dist-packages (from torch) (1.12)\n",
            "Requirement already satisfied: networkx in /usr/local/lib/python3.10/dist-packages (from torch) (3.2)\n",
            "Requirement already satisfied: jinja2 in /usr/local/lib/python3.10/dist-packages (from torch) (3.1.2)\n",
            "Requirement already satisfied: fsspec in /usr/local/lib/python3.10/dist-packages (from torch) (2023.6.0)\n",
            "Requirement already satisfied: triton==2.1.0 in /usr/local/lib/python3.10/dist-packages (from torch) (2.1.0)\n",
            "Requirement already satisfied: MarkupSafe>=2.0 in /usr/local/lib/python3.10/dist-packages (from jinja2->torch) (2.1.3)\n",
            "Requirement already satisfied: mpmath>=0.19 in /usr/local/lib/python3.10/dist-packages (from sympy->torch) (1.3.0)\n"
          ]
        }
      ]
    },
    {
      "cell_type": "code",
      "source": [
        "import torch"
      ],
      "metadata": {
        "id": "Goha1O9e88b9"
      },
      "execution_count": 33,
      "outputs": []
    },
    {
      "cell_type": "markdown",
      "source": [
        "## Data types and definitions of tensors\n",
        "- **torch.mm**: performs a matrix multiplication without broadcasting (2D tensor) by (2D tensor)\n",
        "- **torch.mul**: performs a elementwise multiplication with broadcasting (Tensor) by (Tensor or Number)\n",
        "- **torch.matmul**: matrix product with broadcasting (Tensor) by (Tensor) with different behaviors depending on the tensor shapes (dot product, matrix product, batched matrix products)."
      ],
      "metadata": {
        "id": "yE2akUmn70wE"
      }
    },
    {
      "cell_type": "code",
      "source": [
        "a1=torch.tensor([1.3])\n",
        "print(a1)\n",
        "print(a1.type())\n",
        "print(a1.dtype)\n",
        "print(a1.size())"
      ],
      "metadata": {
        "colab": {
          "base_uri": "https://localhost:8080/"
        },
        "id": "Cjt2JQIU3nA6",
        "outputId": "40c085a0-6221-4b02-8e41-1d676e0387a5"
      },
      "execution_count": 55,
      "outputs": [
        {
          "output_type": "stream",
          "name": "stdout",
          "text": [
            "tensor([1.3000])\n",
            "torch.FloatTensor\n",
            "torch.float32\n",
            "torch.Size([1])\n"
          ]
        }
      ]
    },
    {
      "cell_type": "code",
      "source": [
        "a12 = torch.tensor([1, 2])\n",
        "print(a12)\n",
        "print(a12.size())\n",
        "a22 = torch.tensor([[2, 5],[3, 5]])\n",
        "print(a22)\n",
        "print(a22.size())\n",
        "a23 = torch.tensor([[1, 2, 6],[10, 2, 8]])\n",
        "print(a23)\n",
        "print(a23.size())"
      ],
      "metadata": {
        "colab": {
          "base_uri": "https://localhost:8080/"
        },
        "id": "IrYB82ps-vPp",
        "outputId": "4cd1af67-2189-4e04-cccc-c7bf3d339a83"
      },
      "execution_count": 71,
      "outputs": [
        {
          "output_type": "stream",
          "name": "stdout",
          "text": [
            "tensor([1, 2])\n",
            "torch.Size([2])\n",
            "tensor([[2, 5],\n",
            "        [3, 5]])\n",
            "torch.Size([2, 2])\n",
            "tensor([[ 1,  2,  6],\n",
            "        [10,  2,  8]])\n",
            "torch.Size([2, 3])\n"
          ]
        }
      ]
    },
    {
      "cell_type": "code",
      "source": [
        "print(torch.matmul(a22,a23))"
      ],
      "metadata": {
        "colab": {
          "base_uri": "https://localhost:8080/"
        },
        "id": "j0pXx0-p-5wo",
        "outputId": "e5d12840-7810-4ffa-a07a-b46a62cf069a"
      },
      "execution_count": 72,
      "outputs": [
        {
          "output_type": "stream",
          "name": "stdout",
          "text": [
            "tensor([[52, 14, 52],\n",
            "        [53, 16, 58]])\n"
          ]
        }
      ]
    },
    {
      "cell_type": "code",
      "source": [
        "print(torch.mul(a22,a22))\n",
        "print(torch.mul(a12*100,a22))\n",
        "print(torch.matmul(a22,a22))"
      ],
      "metadata": {
        "colab": {
          "base_uri": "https://localhost:8080/"
        },
        "id": "O76xh1R__kiP",
        "outputId": "6435dd4a-d231-4a96-b634-d4be99303310"
      },
      "execution_count": 73,
      "outputs": [
        {
          "output_type": "stream",
          "name": "stdout",
          "text": [
            "tensor([[ 4, 25],\n",
            "        [ 9, 25]])\n",
            "tensor([[ 200, 1000],\n",
            "        [ 300, 1000]])\n",
            "tensor([[19, 35],\n",
            "        [21, 40]])\n"
          ]
        }
      ]
    },
    {
      "cell_type": "code",
      "source": [
        "a23 = torch.tensor([[1, 2, 6],[10, 2, 8]])\n",
        "print(a23)\n",
        "print(a23.size())\n",
        "a3timesa2 = torch.matmul(a3,a2)\n",
        "print(a3timesa2)"
      ],
      "metadata": {
        "colab": {
          "base_uri": "https://localhost:8080/"
        },
        "id": "YDFG7esg6Wtf",
        "outputId": "3b127e91-2071-4e35-eeba-9408f19b7fd0"
      },
      "execution_count": 49,
      "outputs": [
        {
          "output_type": "stream",
          "name": "stdout",
          "text": [
            "tensor([[2, 4, 5],\n",
            "        [3, 5, 5]])\n",
            "torch.Size([2, 3])\n",
            "tensor([[ 1,  2],\n",
            "        [10,  2]])\n",
            "torch.Size([2, 2])\n",
            "tensor([[ 8, 14, 15],\n",
            "        [26, 50, 60]])\n"
          ]
        }
      ]
    },
    {
      "cell_type": "code",
      "source": [
        "torch.ones([2, 4], dtype=torch.float64)"
      ],
      "metadata": {
        "colab": {
          "base_uri": "https://localhost:8080/"
        },
        "id": "IG1vNquj4DZ7",
        "outputId": "b7cdb00b-d5dc-49a9-9a76-f9eec4f85c20"
      },
      "execution_count": null,
      "outputs": [
        {
          "output_type": "execute_result",
          "data": {
            "text/plain": [
              "tensor([[1., 1., 1., 1.],\n",
              "        [1., 1., 1., 1.]], dtype=torch.float64)"
            ]
          },
          "metadata": {},
          "execution_count": 12
        }
      ]
    }
  ]
}