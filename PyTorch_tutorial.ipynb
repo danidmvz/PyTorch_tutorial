{
  "cells": [
    {
      "cell_type": "markdown",
      "metadata": {
        "id": "CrlvR6UL7vsN"
      },
      "source": [
        "# **PyTorch tutorial**\n",
        "This is a basic tutorial for first time users of PyTorch with some code experience. It reviewes mathematical operations with tensors, how to solve linear equations, automatic differentiation and optimization techniques throught examples.\n",
        "\n"
      ]
    },
    {
      "cell_type": "markdown",
      "metadata": {
        "id": "sYoq6KVw8wit"
      },
      "source": [
        "## Installing and loading PyTorch"
      ]
    },
    {
      "cell_type": "code",
      "execution_count": 1,
      "metadata": {
        "colab": {
          "base_uri": "https://localhost:8080/"
        },
        "id": "fZzbMitk87HC",
        "outputId": "d1f69b0d-0340-4314-84a1-0c2bfffb4ae3"
      },
      "outputs": [
        {
          "name": "stdout",
          "output_type": "stream",
          "text": [
            "Requirement already satisfied: torch in c:\\users\\ddominguezvazquez\\appdata\\local\\packages\\pythonsoftwarefoundation.python.3.10_qbz5n2kfra8p0\\localcache\\local-packages\\python310\\site-packages (2.1.0)\n",
            "Requirement already satisfied: typing-extensions in c:\\users\\ddominguezvazquez\\appdata\\local\\packages\\pythonsoftwarefoundation.python.3.10_qbz5n2kfra8p0\\localcache\\local-packages\\python310\\site-packages (from torch) (4.3.0)\n",
            "Requirement already satisfied: networkx in c:\\users\\ddominguezvazquez\\appdata\\local\\packages\\pythonsoftwarefoundation.python.3.10_qbz5n2kfra8p0\\localcache\\local-packages\\python310\\site-packages (from torch) (2.8.8)\n",
            "Requirement already satisfied: fsspec in c:\\users\\ddominguezvazquez\\appdata\\local\\packages\\pythonsoftwarefoundation.python.3.10_qbz5n2kfra8p0\\localcache\\local-packages\\python310\\site-packages (from torch) (2023.9.2)\n",
            "Requirement already satisfied: filelock in c:\\users\\ddominguezvazquez\\appdata\\local\\packages\\pythonsoftwarefoundation.python.3.10_qbz5n2kfra8p0\\localcache\\local-packages\\python310\\site-packages (from torch) (3.8.0)\n",
            "Requirement already satisfied: sympy in c:\\users\\ddominguezvazquez\\appdata\\local\\packages\\pythonsoftwarefoundation.python.3.10_qbz5n2kfra8p0\\localcache\\local-packages\\python310\\site-packages (from torch) (1.12)\n",
            "Requirement already satisfied: jinja2 in c:\\users\\ddominguezvazquez\\appdata\\local\\packages\\pythonsoftwarefoundation.python.3.10_qbz5n2kfra8p0\\localcache\\local-packages\\python310\\site-packages (from torch) (3.1.2)\n",
            "Requirement already satisfied: MarkupSafe>=2.0 in c:\\users\\ddominguezvazquez\\appdata\\local\\packages\\pythonsoftwarefoundation.python.3.10_qbz5n2kfra8p0\\localcache\\local-packages\\python310\\site-packages (from jinja2->torch) (2.1.1)\n",
            "Requirement already satisfied: mpmath>=0.19 in c:\\users\\ddominguezvazquez\\appdata\\local\\packages\\pythonsoftwarefoundation.python.3.10_qbz5n2kfra8p0\\localcache\\local-packages\\python310\\site-packages (from sympy->torch) (1.3.0)\n"
          ]
        },
        {
          "name": "stderr",
          "output_type": "stream",
          "text": [
            "\n",
            "[notice] A new release of pip is available: 23.0.1 -> 23.3.1\n",
            "[notice] To update, run: C:\\Users\\ddominguezvazquez\\AppData\\Local\\Microsoft\\WindowsApps\\PythonSoftwareFoundation.Python.3.10_qbz5n2kfra8p0\\python.exe -m pip install --upgrade pip\n"
          ]
        }
      ],
      "source": [
        "!pip install torch"
      ]
    },
    {
      "cell_type": "code",
      "execution_count": 3,
      "metadata": {
        "id": "Goha1O9e88b9"
      },
      "outputs": [],
      "source": [
        "import torch"
      ]
    },
    {
      "cell_type": "markdown",
      "metadata": {
        "id": "yE2akUmn70wE"
      },
      "source": [
        "## Data types and definitions of tensors\n",
        "- **torch.mm**: performs a matrix multiplication without broadcasting (2D tensor) by (2D tensor)\n",
        "- **torch.mul**: performs a elementwise multiplication with broadcasting (Tensor) by (Tensor or Number)\n",
        "- **torch.matmul**: matrix product with broadcasting (Tensor) by (Tensor) with different behaviors depending on the tensor shapes (dot product, matrix product, batched matrix products)."
      ]
    },
    {
      "cell_type": "code",
      "execution_count": 4,
      "metadata": {
        "colab": {
          "base_uri": "https://localhost:8080/"
        },
        "id": "Cjt2JQIU3nA6",
        "outputId": "40c085a0-6221-4b02-8e41-1d676e0387a5"
      },
      "outputs": [
        {
          "name": "stdout",
          "output_type": "stream",
          "text": [
            "tensor([1.3000])\n",
            "torch.FloatTensor\n",
            "torch.float32\n",
            "torch.Size([1])\n"
          ]
        }
      ],
      "source": [
        "a1=torch.tensor([1.3])\n",
        "print(a1)\n",
        "print(a1.type())\n",
        "print(a1.dtype)\n",
        "print(a1.size())"
      ]
    },
    {
      "cell_type": "code",
      "execution_count": 5,
      "metadata": {
        "colab": {
          "base_uri": "https://localhost:8080/"
        },
        "id": "IrYB82ps-vPp",
        "outputId": "4cd1af67-2189-4e04-cccc-c7bf3d339a83"
      },
      "outputs": [
        {
          "name": "stdout",
          "output_type": "stream",
          "text": [
            "tensor([1, 2])\n",
            "torch.Size([2])\n",
            "tensor([[2, 5],\n",
            "        [3, 5]])\n",
            "torch.Size([2, 2])\n",
            "tensor([[ 1,  2,  6],\n",
            "        [10,  2,  8]])\n",
            "torch.Size([2, 3])\n"
          ]
        }
      ],
      "source": [
        "a12 = torch.tensor([1, 2])\n",
        "print(a12)\n",
        "print(a12.size())\n",
        "a22 = torch.tensor([[2, 5],[3, 5]])\n",
        "print(a22)\n",
        "print(a22.size())\n",
        "a23 = torch.tensor([[1, 2, 6],[10, 2, 8]])\n",
        "print(a23)\n",
        "print(a23.size())"
      ]
    },
    {
      "cell_type": "code",
      "execution_count": 6,
      "metadata": {
        "colab": {
          "base_uri": "https://localhost:8080/"
        },
        "id": "j0pXx0-p-5wo",
        "outputId": "e5d12840-7810-4ffa-a07a-b46a62cf069a"
      },
      "outputs": [
        {
          "name": "stdout",
          "output_type": "stream",
          "text": [
            "tensor([[52, 14, 52],\n",
            "        [53, 16, 58]])\n"
          ]
        }
      ],
      "source": [
        "print(torch.matmul(a22,a23))"
      ]
    },
    {
      "cell_type": "code",
      "execution_count": 73,
      "metadata": {
        "colab": {
          "base_uri": "https://localhost:8080/"
        },
        "id": "O76xh1R__kiP",
        "outputId": "6435dd4a-d231-4a96-b634-d4be99303310"
      },
      "outputs": [
        {
          "name": "stdout",
          "output_type": "stream",
          "text": [
            "tensor([[ 4, 25],\n",
            "        [ 9, 25]])\n",
            "tensor([[ 200, 1000],\n",
            "        [ 300, 1000]])\n",
            "tensor([[19, 35],\n",
            "        [21, 40]])\n"
          ]
        }
      ],
      "source": [
        "print(torch.mul(a22,a22))\n",
        "print(torch.mul(a12*100,a22))\n",
        "print(torch.matmul(a22,a22))"
      ]
    },
    {
      "cell_type": "code",
      "execution_count": 49,
      "metadata": {
        "colab": {
          "base_uri": "https://localhost:8080/"
        },
        "id": "YDFG7esg6Wtf",
        "outputId": "3b127e91-2071-4e35-eeba-9408f19b7fd0"
      },
      "outputs": [
        {
          "name": "stdout",
          "output_type": "stream",
          "text": [
            "tensor([[2, 4, 5],\n",
            "        [3, 5, 5]])\n",
            "torch.Size([2, 3])\n",
            "tensor([[ 1,  2],\n",
            "        [10,  2]])\n",
            "torch.Size([2, 2])\n",
            "tensor([[ 8, 14, 15],\n",
            "        [26, 50, 60]])\n"
          ]
        }
      ],
      "source": [
        "a23 = torch.tensor([[1, 2, 6],[10, 2, 8]])\n",
        "print(a23)\n",
        "print(a23.size())\n",
        "a3timesa2 = torch.matmul(a3,a2)\n",
        "print(a3timesa2)"
      ]
    },
    {
      "cell_type": "code",
      "execution_count": null,
      "metadata": {
        "colab": {
          "base_uri": "https://localhost:8080/"
        },
        "id": "IG1vNquj4DZ7",
        "outputId": "b7cdb00b-d5dc-49a9-9a76-f9eec4f85c20"
      },
      "outputs": [
        {
          "data": {
            "text/plain": [
              "tensor([[1., 1., 1., 1.],\n",
              "        [1., 1., 1., 1.]], dtype=torch.float64)"
            ]
          },
          "execution_count": 12,
          "metadata": {},
          "output_type": "execute_result"
        }
      ],
      "source": [
        "torch.ones([2, 4], dtype=torch.float64)"
      ]
    }
  ],
  "metadata": {
    "colab": {
      "provenance": [],
      "toc_visible": true
    },
    "kernelspec": {
      "display_name": "Python 3.10.11 64-bit (microsoft store)",
      "language": "python",
      "name": "python3"
    },
    "language_info": {
      "codemirror_mode": {
        "name": "ipython",
        "version": 3
      },
      "file_extension": ".py",
      "mimetype": "text/x-python",
      "name": "python",
      "nbconvert_exporter": "python",
      "pygments_lexer": "ipython3",
      "version": "3.10.11"
    },
    "vscode": {
      "interpreter": {
        "hash": "494a1fb1e25dab97c2b8e06c2a57527572434a284d1a512957b95dc935844803"
      }
    }
  },
  "nbformat": 4,
  "nbformat_minor": 0
}
